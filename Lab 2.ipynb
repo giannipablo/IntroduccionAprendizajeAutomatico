{
 "cells": [
  {
   "cell_type": "markdown",
   "metadata": {},
   "source": [
    "# Laboratorio 2: Armado de un esquema de aprendizaje automático\n",
    "\n",
    "En el laboratorio final se espera que puedan poner en práctica los conocimientos adquiridos en el curso, trabajando con un conjunto de datos de clasificación.\n",
    "\n",
    "El objetivo es que se introduzcan en el desarrollo de un esquema para hacer tareas de aprendizaje automático: selección de un modelo, ajuste de hiperparámetros y evaluación.\n",
    "\n",
    "El conjunto de datos a utilizar está en `./data/loan_data.csv`. Si abren el archivo verán que al principio (las líneas que empiezan con `#`) describen el conjunto de datos y sus atributos (incluyendo el atributo de etiqueta o clase).\n",
    "\n",
    "Se espera que hagan uso de las herramientas vistas en el curso. Se espera que hagan uso especialmente de las herramientas brindadas por `scikit-learn`."
   ]
  },
  {
   "cell_type": "code",
   "execution_count": 59,
   "metadata": {},
   "outputs": [],
   "source": [
    "import numpy as np\n",
    "import pandas as pd\n",
    "import matplotlib.pyplot as plt\n",
    "\n",
    "# TODO: Agregar las librerías que hagan falta\n",
    "from sklearn.model_selection import train_test_split"
   ]
  },
  {
   "cell_type": "markdown",
   "metadata": {},
   "source": [
    "## Carga de datos y división en entrenamiento y evaluación\n",
    "\n",
    "La celda siguiente se encarga de la carga de datos (haciendo uso de pandas). Estos serán los que se trabajarán en el resto del laboratorio."
   ]
  },
  {
   "cell_type": "code",
   "execution_count": 2,
   "metadata": {},
   "outputs": [],
   "source": [
    "dataset = pd.read_csv(\"./data/loan_data.csv\", comment=\"#\")\n",
    "\n",
    "# División entre instancias y etiquetas\n",
    "X, y = dataset.iloc[:, 1:], dataset.TARGET\n",
    "\n",
    "# división entre entrenamiento y evaluación\n",
    "X_train, X_test, y_train, y_test = train_test_split(X, y, test_size=0.2, random_state=0)"
   ]
  },
  {
   "cell_type": "code",
   "execution_count": 4,
   "metadata": {},
   "outputs": [
    {
     "name": "stdout",
     "output_type": "stream",
     "text": [
      "<class 'pandas.core.frame.DataFrame'>\n",
      "RangeIndex: 1854 entries, 0 to 1853\n",
      "Data columns (total 11 columns):\n",
      " #   Column   Non-Null Count  Dtype  \n",
      "---  ------   --------------  -----  \n",
      " 0   TARGET   1854 non-null   int64  \n",
      " 1   LOAN     1854 non-null   int64  \n",
      " 2   MORTDUE  1854 non-null   float64\n",
      " 3   VALUE    1854 non-null   float64\n",
      " 4   YOJ      1854 non-null   float64\n",
      " 5   DEROG    1854 non-null   float64\n",
      " 6   DELINQ   1854 non-null   float64\n",
      " 7   CLAGE    1854 non-null   float64\n",
      " 8   NINQ     1854 non-null   float64\n",
      " 9   CLNO     1854 non-null   float64\n",
      " 10  DEBTINC  1854 non-null   float64\n",
      "dtypes: float64(9), int64(2)\n",
      "memory usage: 159.5 KB\n"
     ]
    }
   ],
   "source": [
    "dataset.info()"
   ]
  },
  {
   "cell_type": "markdown",
   "metadata": {},
   "source": [
    "\n",
    "Documentación:\n",
    "\n",
    "- https://scikit-learn.org/stable/modules/generated/sklearn.model_selection.train_test_split.html"
   ]
  },
  {
   "cell_type": "markdown",
   "metadata": {},
   "source": [
    "## Ejercicio 1: Descripción de los Datos y la Tarea\n",
    "\n",
    "Responder las siguientes preguntas:\n",
    "\n",
    "1. ¿De qué se trata el conjunto de datos?\n",
    "2. ¿Cuál es la variable objetivo que hay que predecir? ¿Qué significado tiene?\n",
    "3. ¿Qué información (atributos) hay disponible para hacer la predicción?\n",
    "4. ¿Qué atributos imagina ud. que son los más determinantes para la predicción?\n",
    "\n",
    "**No hace falta escribir código para responder estas preguntas.**"
   ]
  },
  {
   "cell_type": "markdown",
   "metadata": {},
   "source": [
    "### Respuestas:\n",
    "\n",
    "1. El conjuto de datos recopila informacion de los solicitantes recientes a los que se les otorgó crédito a través del proceso vigente al momento de suscripción de préstamos. El departamento de crédito al consumo de un banco quiere automatizar el proceso de toma de decisiones para la aprobación de líneas de crédito sobre el valor neto de la vivienda. Para hacer esto, seguirán las recomendaciones de la Ley de Igualdad de Oportunidades de Crédito para crear un modelo de calificación crediticia empíricamente derivado y estadísticamente sólido.\n",
    "\n",
    "2. La variable TARGET es del tipo binaria e indica si el solicitante devolvio (loan repaid) o no devolvió (defaulted on loan) el préstamo solicitado.\n",
    "\n",
    "3. Se encuentran:\n",
    "\n",
    "    1. LOAN    Cantidad de la solicitud de préstamo\n",
    "    2. MORTDUE Monto adeudado por hipoteca existente\n",
    "    3. VALUE   Valor de la propiedad actual\n",
    "    4. YOJ     Años en el trabajo actual\n",
    "    5. DEROG   Número de informes despectivos importantes\n",
    "    6. DELINQ  Número de líneas de crédito morosas\n",
    "    7. CLAGE   Edad de la línea comercial más antigua en meses\n",
    "    8. NINQ    Número de líneas de crédito recientes\n",
    "    9. CLNO    Número de líneas de crédito\n",
    "    8. DEBTINC Relación deuda / ingresos\n",
    "\n",
    "\n",
    "4. Creemos que pueden ser:\n",
    "\n",
    "    1. LOAN\n",
    "    2. MORTDUE\n",
    "    3. DELINQ\n",
    "    4. DEBTINC"
   ]
  },
  {
   "cell_type": "markdown",
   "metadata": {},
   "source": [
    "## Ejercicio 2: Predicción con Modelos Lineales\n",
    "\n",
    "En este ejercicio se entrenarán modelos lineales de clasificación para predecir la variable objetivo.\n",
    "\n",
    "Para ello, deberán utilizar la clase SGDClassifier de scikit-learn.\n",
    "\n",
    "Documentación:\n",
    "- https://scikit-learn.org/stable/modules/sgd.html\n",
    "- https://scikit-learn.org/stable/modules/generated/sklearn.linear_model.SGDClassifier.html\n"
   ]
  },
  {
   "cell_type": "markdown",
   "metadata": {},
   "source": [
    "### Ejercicio 2.1: SGDClassifier con hiperparámetros por defecto\n",
    "\n",
    "Entrenar y evaluar el clasificador SGDClassifier usando los valores por omisión de scikit-learn para todos los parámetros. Únicamente **fijar la semilla aleatoria** para hacer repetible el experimento.\n",
    "\n",
    "Evaluar sobre el conjunto de **entrenamiento** y sobre el conjunto de **evaluación**, reportando:\n",
    "- Accuracy\n",
    "- Precision\n",
    "- Recall\n",
    "- F1\n",
    "- matriz de confusión"
   ]
  },
  {
   "cell_type": "code",
   "execution_count": 63,
   "metadata": {},
   "outputs": [
    {
     "name": "stdout",
     "output_type": "stream",
     "text": [
      "Train data\n",
      "Accuracy 0.8307484828051247, Precision 0.0, Recall 0.0, F1 0.0\n",
      "Test data\n",
      "Accuracy 0.8436657681940701, Precision 0.0, Recall 0.0, F1 0.0\n"
     ]
    },
    {
     "name": "stderr",
     "output_type": "stream",
     "text": [
      "/Users/pgianni/venv/diplo/lib/python3.8/site-packages/sklearn/metrics/_classification.py:1221: UndefinedMetricWarning: Precision is ill-defined and being set to 0.0 due to no predicted samples. Use `zero_division` parameter to control this behavior.\n",
      "  _warn_prf(average, modifier, msg_start, len(result))\n",
      "/Users/pgianni/venv/diplo/lib/python3.8/site-packages/sklearn/metrics/_classification.py:1221: UndefinedMetricWarning: Precision is ill-defined and being set to 0.0 due to no predicted samples. Use `zero_division` parameter to control this behavior.\n",
      "  _warn_prf(average, modifier, msg_start, len(result))\n"
     ]
    },
    {
     "data": {
      "text/plain": [
       "Text(0.5, 1.0, 'Test data')"
      ]
     },
     "execution_count": 63,
     "metadata": {},
     "output_type": "execute_result"
    },
    {
     "data": {
      "image/png": "[encoded data removed]",
      "text/plain": [
       "<Figure size 432x288 with 2 Axes>"
      ]
     },
     "metadata": {
      "needs_background": "light"
     },
     "output_type": "display_data"
    },
    {
     "data": {
      "image/png": "[encoded data removed]",
      "text/plain": [
       "<Figure size 432x288 with 2 Axes>"
      ]
     },
     "metadata": {
      "needs_background": "light"
     },
     "output_type": "display_data"
    }
   ],
   "source": [
    "np.random.seed(65793)\n",
    "from sklearn.linear_model import SGDClassifier\n",
    "from sklearn.metrics import accuracy_score, precision_score, recall_score, f1_score, plot_confusion_matrix\n",
    "\n",
    "clf = SGDClassifier()\n",
    "clf.fit(X_train, y_train)\n",
    "y_clf_train = clf.predict(X_train)\n",
    "y_clf_test = clf.predict(X_test)\n",
    "\n",
    "print('Train data')\n",
    "print(f'Accuracy {accuracy_score(y_train, y_clf_train)}, Precision {precision_score(y_train, y_clf_train)}, Recall {recall_score(y_train, y_clf_train)}, F1 {f1_score(y_train, y_clf_train)}')\n",
    "disp = plot_confusion_matrix(clf, X_train, y_train,\n",
    "#                                  display_labels=class_names,\n",
    "                                 cmap=plt.cm.Blues,\n",
    "                                 normalize=None)\n",
    "disp.ax_.set_title('Train data')\n",
    "\n",
    "print('Test data')\n",
    "print(f'Accuracy {accuracy_score(y_test, y_clf_test)}, Precision {precision_score(y_test, y_clf_test)}, Recall {recall_score(y_test, y_clf_test)}, F1 {f1_score(y_test, y_clf_test)}')\n",
    "disp = plot_confusion_matrix(clf, X_test, y_test,\n",
    "#                                  display_labels=class_names,\n",
    "                                 cmap=plt.cm.Blues,\n",
    "                                 normalize=None)\n",
    "disp.ax_.set_title('Test data')"
   ]
  },
  {
   "cell_type": "markdown",
   "metadata": {},
   "source": [
    "### Ejercicio 2.2: Ajuste de Hiperparámetros\n",
    "\n",
    "Seleccionar valores para los hiperparámetros principales del SGDClassifier. Como mínimo, probar diferentes funciones de loss, tasas de entrenamiento y tasas de regularización.\n",
    "\n",
    "Para ello, usar grid-search y 5-fold cross-validation sobre el conjunto de entrenamiento para explorar muchas combinaciones posibles de valores.\n",
    "\n",
    "Reportar accuracy promedio y varianza para todas las configuraciones.\n",
    "\n",
    "Para la mejor configuración encontrada, evaluar sobre el conjunto de **entrenamiento** y sobre el conjunto de **evaluación**, reportando:\n",
    "- Accuracy\n",
    "- Precision\n",
    "- Recall\n",
    "- F1\n",
    "- matriz de confusión\n",
    "\n",
    "Documentación:\n",
    "- https://scikit-learn.org/stable/modules/grid_search.html\n",
    "- https://scikit-learn.org/stable/modules/generated/sklearn.model_selection.GridSearchCV.html"
   ]
  },
  {
   "cell_type": "code",
   "execution_count": 94,
   "metadata": {},
   "outputs": [],
   "source": [
    "from sklearn.model_selection import GridSearchCV\n",
    "\n",
    "param_grid = {\n",
    "    'loss': ['hinge', 'log', 'perceptron'],\n",
    "    'penalty': ['l2', 'l1', 'elasticnet'],\n",
    "    'alpha': [1e-4, 1e-4, 1e-3],\n",
    "    'learning_rate': ['adaptive'],\n",
    "    'eta0': [1e-2, 1e-3, 1e-4],\n",
    "    'random_state': [0]\n",
    "}\n",
    "\n",
    "clf = SGDClassifier()\n",
    "\n",
    "cv = GridSearchCV(clf, param_grid, scoring='accuracy', cv=5)\n",
    "cv.fit(X_train, y_train);"
   ]
  },
  {
   "cell_type": "code",
   "execution_count": 96,
   "metadata": {},
   "outputs": [
    {
     "data": {
      "text/plain": [
       "array([{'alpha': 0.0001, 'eta0': 0.001, 'learning_rate': 'adaptive', 'loss': 'log', 'penalty': 'l1', 'random_state': 0},\n",
       "       {'alpha': 0.0001, 'eta0': 0.001, 'learning_rate': 'adaptive', 'loss': 'log', 'penalty': 'l1', 'random_state': 0}],\n",
       "      dtype=object)"
      ]
     },
     "metadata": {},
     "output_type": "display_data"
    },
    {
     "data": {
      "text/html": [
       "<div>\n",
       "<style scoped>\n",
       "    .dataframe tbody tr th:only-of-type {\n",
       "        vertical-align: middle;\n",
       "    }\n",
       "\n",
       "    .dataframe tbody tr th {\n",
       "        vertical-align: top;\n",
       "    }\n",
       "\n",
       "    .dataframe thead th {\n",
       "        text-align: right;\n",
       "    }\n",
       "</style>\n",
       "<table border=\"1\" class=\"dataframe\">\n",
       "  <thead>\n",
       "    <tr style=\"text-align: right;\">\n",
       "      <th></th>\n",
       "      <th>rank_test_score</th>\n",
       "      <th>params</th>\n",
       "      <th>mean_test_score</th>\n",
       "      <th>std_test_score</th>\n",
       "    </tr>\n",
       "  </thead>\n",
       "  <tbody>\n",
       "    <tr>\n",
       "      <th>40</th>\n",
       "      <td>1</td>\n",
       "      <td>{'alpha': 0.0001, 'eta0': 0.001, 'learning_rat...</td>\n",
       "      <td>0.830076</td>\n",
       "      <td>0.002598</td>\n",
       "    </tr>\n",
       "    <tr>\n",
       "      <th>13</th>\n",
       "      <td>1</td>\n",
       "      <td>{'alpha': 0.0001, 'eta0': 0.001, 'learning_rat...</td>\n",
       "      <td>0.830076</td>\n",
       "      <td>0.002598</td>\n",
       "    </tr>\n",
       "    <tr>\n",
       "      <th>76</th>\n",
       "      <td>3</td>\n",
       "      <td>{'alpha': 0.001, 'eta0': 0.0001, 'learning_rat...</td>\n",
       "      <td>0.829400</td>\n",
       "      <td>0.001629</td>\n",
       "    </tr>\n",
       "    <tr>\n",
       "      <th>79</th>\n",
       "      <td>4</td>\n",
       "      <td>{'alpha': 0.001, 'eta0': 0.0001, 'learning_rat...</td>\n",
       "      <td>0.828729</td>\n",
       "      <td>0.003778</td>\n",
       "    </tr>\n",
       "    <tr>\n",
       "      <th>38</th>\n",
       "      <td>5</td>\n",
       "      <td>{'alpha': 0.0001, 'eta0': 0.001, 'learning_rat...</td>\n",
       "      <td>0.828055</td>\n",
       "      <td>0.004088</td>\n",
       "    </tr>\n",
       "  </tbody>\n",
       "</table>\n",
       "</div>"
      ],
      "text/plain": [
       "    rank_test_score                                             params  \\\n",
       "40                1  {'alpha': 0.0001, 'eta0': 0.001, 'learning_rat...   \n",
       "13                1  {'alpha': 0.0001, 'eta0': 0.001, 'learning_rat...   \n",
       "76                3  {'alpha': 0.001, 'eta0': 0.0001, 'learning_rat...   \n",
       "79                4  {'alpha': 0.001, 'eta0': 0.0001, 'learning_rat...   \n",
       "38                5  {'alpha': 0.0001, 'eta0': 0.001, 'learning_rat...   \n",
       "\n",
       "    mean_test_score  std_test_score  \n",
       "40         0.830076        0.002598  \n",
       "13         0.830076        0.002598  \n",
       "76         0.829400        0.001629  \n",
       "79         0.828729        0.003778  \n",
       "38         0.828055        0.004088  "
      ]
     },
     "metadata": {},
     "output_type": "display_data"
    }
   ],
   "source": [
    "results = pd.DataFrame(cv.cv_results_)\n",
    "results = results[['rank_test_score', 'params', 'mean_test_score','std_test_score']]\n",
    "\n",
    "display(results[results.rank_test_score==1].params.values)\n",
    "display(results.sort_values(by=['rank_test_score']).head())"
   ]
  },
  {
   "cell_type": "code",
   "execution_count": 97,
   "metadata": {},
   "outputs": [
    {
     "name": "stdout",
     "output_type": "stream",
     "text": [
      "Train data\n",
      "Accuracy 0.8347943358057991, Precision 0.6, Recall 0.07171314741035857, F1 0.12811387900355872\n",
      "Test data\n",
      "Accuracy 0.8463611859838275, Precision 0.6, Recall 0.05172413793103448, F1 0.09523809523809525\n"
     ]
    },
    {
     "data": {
      "text/plain": [
       "Text(0.5, 1.0, 'Test data')"
      ]
     },
     "execution_count": 97,
     "metadata": {},
     "output_type": "execute_result"
    },
    {
     "data": {
      "image/png": "[encoded data removed]",
      "text/plain": [
       "<Figure size 432x288 with 2 Axes>"
      ]
     },
     "metadata": {
      "needs_background": "light"
     },
     "output_type": "display_data"
    },
    {
     "data": {
      "image/png": "[encoded data removed]",
      "text/plain": [
       "<Figure size 432x288 with 2 Axes>"
      ]
     },
     "metadata": {
      "needs_background": "light"
     },
     "output_type": "display_data"
    }
   ],
   "source": [
    "clf = SGDClassifier(**results[results.rank_test_score==1].params.values[0])\n",
    "clf.fit(X_train, y_train);\n",
    "\n",
    "y_clf_train = clf.predict(X_train)\n",
    "y_clf_test = clf.predict(X_test)\n",
    "\n",
    "print('Train data')\n",
    "print(f'Accuracy {accuracy_score(y_train, y_clf_train)}, Precision {precision_score(y_train, y_clf_train)}, Recall {recall_score(y_train, y_clf_train)}, F1 {f1_score(y_train, y_clf_train)}')\n",
    "disp = plot_confusion_matrix(clf, X_train, y_train,\n",
    "#                                  display_labels=class_names,\n",
    "                                 cmap=plt.cm.Blues,\n",
    "                                 normalize=None)\n",
    "disp.ax_.set_title('Train data')\n",
    "\n",
    "print('Test data')\n",
    "print(f'Accuracy {accuracy_score(y_test, y_clf_test)}, Precision {precision_score(y_test, y_clf_test)}, Recall {recall_score(y_test, y_clf_test)}, F1 {f1_score(y_test, y_clf_test)}')\n",
    "disp = plot_confusion_matrix(clf, X_test, y_test,\n",
    "#                                  display_labels=class_names,\n",
    "                                 cmap=plt.cm.Blues,\n",
    "                                 normalize=None)\n",
    "disp.ax_.set_title('Test data')"
   ]
  },
  {
   "cell_type": "markdown",
   "metadata": {},
   "source": [
    "## Ejercicio 3: Árboles de Decisión\n",
    "\n",
    "En este ejercicio se entrenarán árboles de decisión para predecir la variable objetivo.\n",
    "\n",
    "Para ello, deberán utilizar la clase DecisionTreeClassifier de scikit-learn.\n",
    "\n",
    "Documentación:\n",
    "- https://scikit-learn.org/stable/modules/tree.html\n",
    "  - https://scikit-learn.org/stable/modules/tree.html#tips-on-practical-use\n",
    "- https://scikit-learn.org/stable/modules/generated/sklearn.tree.DecisionTreeClassifier.html\n",
    "- https://scikit-learn.org/stable/auto_examples/tree/plot_unveil_tree_structure.html"
   ]
  },
  {
   "cell_type": "markdown",
   "metadata": {},
   "source": [
    "### Ejercicio 3.1: DecisionTreeClassifier con hiperparámetros por defecto\n",
    "\n",
    "Entrenar y evaluar el clasificador DecisionTreeClassifier usando los valores por omisión de scikit-learn para todos los parámetros. Únicamente **fijar la semilla aleatoria** para hacer repetible el experimento.\n",
    "\n",
    "Evaluar sobre el conjunto de **entrenamiento** y sobre el conjunto de **evaluación**, reportando:\n",
    "- Accuracy\n",
    "- Precision\n",
    "- Recall\n",
    "- F1\n",
    "- matriz de confusión\n"
   ]
  },
  {
   "cell_type": "code",
   "execution_count": 98,
   "metadata": {},
   "outputs": [
    {
     "name": "stdout",
     "output_type": "stream",
     "text": [
      "Train data\n",
      "Accuracy 1.0, Precision 1.0, Recall 1.0, F1 1.0\n",
      "Test data\n",
      "Accuracy 0.8814016172506739, Precision 0.6166666666666667, Recall 0.6379310344827587, F1 0.6271186440677966\n"
     ]
    },
    {
     "data": {
      "text/plain": [
       "Text(0.5, 1.0, 'Test data')"
      ]
     },
     "execution_count": 98,
     "metadata": {},
     "output_type": "execute_result"
    },
    {
     "data": {
      "image/png": "[encoded data removed]",
      "text/plain": [
       "<Figure size 432x288 with 2 Axes>"
      ]
     },
     "metadata": {
      "needs_background": "light"
     },
     "output_type": "display_data"
    },
    {
     "data": {
      "image/png": "[encoded data removed]",
      "text/plain": [
       "<Figure size 432x288 with 2 Axes>"
      ]
     },
     "metadata": {
      "needs_background": "light"
     },
     "output_type": "display_data"
    }
   ],
   "source": [
    "np.random.seed(65793)\n",
    "from sklearn.tree import DecisionTreeClassifier\n",
    "from sklearn.metrics import accuracy_score, precision_score, recall_score, f1_score, plot_confusion_matrix\n",
    "\n",
    "clf = DecisionTreeClassifier(random_state=0)\n",
    "clf.fit(X_train, y_train)\n",
    "y_clf_train = clf.predict(X_train)\n",
    "y_clf_test = clf.predict(X_test)\n",
    "\n",
    "print('Train data')\n",
    "print(f'Accuracy {accuracy_score(y_train, y_clf_train)}, Precision {precision_score(y_train, y_clf_train)}, Recall {recall_score(y_train, y_clf_train)}, F1 {f1_score(y_train, y_clf_train)}')\n",
    "disp = plot_confusion_matrix(clf, X_train, y_train,\n",
    "#                                  display_labels=class_names,\n",
    "                                 cmap=plt.cm.Blues,\n",
    "                                 normalize=None)\n",
    "disp.ax_.set_title('Train data')\n",
    "\n",
    "print('Test data')\n",
    "print(f'Accuracy {accuracy_score(y_test, y_clf_test)}, Precision {precision_score(y_test, y_clf_test)}, Recall {recall_score(y_test, y_clf_test)}, F1 {f1_score(y_test, y_clf_test)}')\n",
    "disp = plot_confusion_matrix(clf, X_test, y_test,\n",
    "#                                  display_labels=class_names,\n",
    "                                 cmap=plt.cm.Blues,\n",
    "                                 normalize=None)\n",
    "disp.ax_.set_title('Test data')"
   ]
  },
  {
   "cell_type": "code",
   "execution_count": 99,
   "metadata": {},
   "outputs": [
    {
     "data": {
      "image/png": "[encoded data removed]",
      "text/plain": [
       "<Figure size 432x288 with 1 Axes>"
      ]
     },
     "metadata": {
      "needs_background": "light"
     },
     "output_type": "display_data"
    }
   ],
   "source": [
    "from sklearn.tree import plot_tree\n",
    "\n",
    "plot_tree(clf);"
   ]
  },
  {
   "cell_type": "markdown",
   "metadata": {},
   "source": [
    "### Ejercicio 3.2: Ajuste de Hiperparámetros\n",
    "\n",
    "Seleccionar valores para los hiperparámetros principales del DecisionTreeClassifier. Como mínimo, probar diferentes criterios de partición (criterion), profundidad máxima del árbol (max_depth), y cantidad mínima de samples por hoja (min_samples_leaf).\n",
    "\n",
    "Para ello, usar grid-search y 5-fold cross-validation sobre el conjunto de entrenamiento para explorar muchas combinaciones posibles de valores.\n",
    "\n",
    "Reportar accuracy promedio y varianza para todas las configuraciones.\n",
    "\n",
    "Para la mejor configuración encontrada, evaluar sobre el conjunto de **entrenamiento** y sobre el conjunto de **evaluación**, reportando:\n",
    "- Accuracy\n",
    "- Precision\n",
    "- Recall\n",
    "- F1\n",
    "- matriz de confusión\n",
    "\n",
    "\n",
    "Documentación:\n",
    "- https://scikit-learn.org/stable/modules/grid_search.html\n",
    "- https://scikit-learn.org/stable/modules/generated/sklearn.model_selection.GridSearchCV.html"
   ]
  },
  {
   "cell_type": "code",
   "execution_count": 128,
   "metadata": {},
   "outputs": [],
   "source": [
    "from sklearn.model_selection import GridSearchCV\n",
    "\n",
    "param_grid = {\n",
    "    'criterion': ['gini', 'entropy'],\n",
    "    'splitter': ['best', 'random'],\n",
    "    'max_depth': [3, 7, 11, 15,19,23],\n",
    "    'min_samples_leaf': [1,2,3],\n",
    "    'min_samples_split': [2,4],\n",
    "    'random_state': [0]\n",
    "}\n",
    "\n",
    "clf = DecisionTreeClassifier()\n",
    "\n",
    "cv = GridSearchCV(clf, param_grid, scoring='recall', cv=5)\n",
    "cv.fit(X_train, y_train);"
   ]
  },
  {
   "cell_type": "code",
   "execution_count": 129,
   "metadata": {},
   "outputs": [
    {
     "data": {
      "text/plain": [
       "array([{'criterion': 'entropy', 'max_depth': 19, 'min_samples_leaf': 1, 'min_samples_split': 4, 'random_state': 0, 'splitter': 'best'},\n",
       "       {'criterion': 'entropy', 'max_depth': 23, 'min_samples_leaf': 1, 'min_samples_split': 4, 'random_state': 0, 'splitter': 'best'}],\n",
       "      dtype=object)"
      ]
     },
     "metadata": {},
     "output_type": "display_data"
    },
    {
     "data": {
      "text/html": [
       "<div>\n",
       "<style scoped>\n",
       "    .dataframe tbody tr th:only-of-type {\n",
       "        vertical-align: middle;\n",
       "    }\n",
       "\n",
       "    .dataframe tbody tr th {\n",
       "        vertical-align: top;\n",
       "    }\n",
       "\n",
       "    .dataframe thead th {\n",
       "        text-align: right;\n",
       "    }\n",
       "</style>\n",
       "<table border=\"1\" class=\"dataframe\">\n",
       "  <thead>\n",
       "    <tr style=\"text-align: right;\">\n",
       "      <th></th>\n",
       "      <th>rank_test_score</th>\n",
       "      <th>params</th>\n",
       "      <th>mean_test_score</th>\n",
       "      <th>std_test_score</th>\n",
       "    </tr>\n",
       "  </thead>\n",
       "  <tbody>\n",
       "    <tr>\n",
       "      <th>122</th>\n",
       "      <td>1</td>\n",
       "      <td>{'criterion': 'entropy', 'max_depth': 19, 'min...</td>\n",
       "      <td>0.597333</td>\n",
       "      <td>0.089899</td>\n",
       "    </tr>\n",
       "    <tr>\n",
       "      <th>134</th>\n",
       "      <td>1</td>\n",
       "      <td>{'criterion': 'entropy', 'max_depth': 23, 'min...</td>\n",
       "      <td>0.597333</td>\n",
       "      <td>0.089899</td>\n",
       "    </tr>\n",
       "    <tr>\n",
       "      <th>120</th>\n",
       "      <td>3</td>\n",
       "      <td>{'criterion': 'entropy', 'max_depth': 19, 'min...</td>\n",
       "      <td>0.589569</td>\n",
       "      <td>0.089350</td>\n",
       "    </tr>\n",
       "    <tr>\n",
       "      <th>132</th>\n",
       "      <td>3</td>\n",
       "      <td>{'criterion': 'entropy', 'max_depth': 23, 'min...</td>\n",
       "      <td>0.589569</td>\n",
       "      <td>0.089350</td>\n",
       "    </tr>\n",
       "    <tr>\n",
       "      <th>110</th>\n",
       "      <td>5</td>\n",
       "      <td>{'criterion': 'entropy', 'max_depth': 15, 'min...</td>\n",
       "      <td>0.589490</td>\n",
       "      <td>0.102178</td>\n",
       "    </tr>\n",
       "  </tbody>\n",
       "</table>\n",
       "</div>"
      ],
      "text/plain": [
       "     rank_test_score                                             params  \\\n",
       "122                1  {'criterion': 'entropy', 'max_depth': 19, 'min...   \n",
       "134                1  {'criterion': 'entropy', 'max_depth': 23, 'min...   \n",
       "120                3  {'criterion': 'entropy', 'max_depth': 19, 'min...   \n",
       "132                3  {'criterion': 'entropy', 'max_depth': 23, 'min...   \n",
       "110                5  {'criterion': 'entropy', 'max_depth': 15, 'min...   \n",
       "\n",
       "     mean_test_score  std_test_score  \n",
       "122         0.597333        0.089899  \n",
       "134         0.597333        0.089899  \n",
       "120         0.589569        0.089350  \n",
       "132         0.589569        0.089350  \n",
       "110         0.589490        0.102178  "
      ]
     },
     "metadata": {},
     "output_type": "display_data"
    }
   ],
   "source": [
    "results = pd.DataFrame(cv.cv_results_)\n",
    "results = results[['rank_test_score', 'params', 'mean_test_score','std_test_score']]\n",
    "\n",
    "display(results[results.rank_test_score==1].params.values)\n",
    "display(results.sort_values(by=['rank_test_score']).head())"
   ]
  },
  {
   "cell_type": "code",
   "execution_count": 130,
   "metadata": {},
   "outputs": [
    {
     "name": "stdout",
     "output_type": "stream",
     "text": [
      "Train data\n",
      "Accuracy 0.9919082939986514, Precision 0.9760956175298805, Recall 0.9760956175298805, F1 0.9760956175298805\n",
      "Test data\n",
      "Accuracy 0.8867924528301887, Precision 0.6333333333333333, Recall 0.6551724137931034, F1 0.6440677966101694\n"
     ]
    },
    {
     "data": {
      "text/plain": [
       "Text(0.5, 1.0, 'Test data')"
      ]
     },
     "execution_count": 130,
     "metadata": {},
     "output_type": "execute_result"
    },
    {
     "data": {
      "image/png": "[encoded data removed]",
      "text/plain": [
       "<Figure size 432x288 with 2 Axes>"
      ]
     },
     "metadata": {
      "needs_background": "light"
     },
     "output_type": "display_data"
    },
    {
     "data": {
      "image/png": "[encoded data removed]",
      "text/plain": [
       "<Figure size 432x288 with 2 Axes>"
      ]
     },
     "metadata": {
      "needs_background": "light"
     },
     "output_type": "display_data"
    }
   ],
   "source": [
    "clf = DecisionTreeClassifier(**results[results.rank_test_score==1].params.values[0])\n",
    "clf.fit(X_train, y_train);\n",
    "\n",
    "y_clf_train = clf.predict(X_train)\n",
    "y_clf_test = clf.predict(X_test)\n",
    "\n",
    "print('Train data')\n",
    "print(f'Accuracy {accuracy_score(y_train, y_clf_train)}, Precision {precision_score(y_train, y_clf_train)}, Recall {recall_score(y_train, y_clf_train)}, F1 {f1_score(y_train, y_clf_train)}')\n",
    "disp = plot_confusion_matrix(clf, X_train, y_train,\n",
    "#                                  display_labels=class_names,\n",
    "                                 cmap=plt.cm.Blues,\n",
    "                                 normalize=None)\n",
    "disp.ax_.set_title('Train data')\n",
    "\n",
    "print('Test data')\n",
    "print(f'Accuracy {accuracy_score(y_test, y_clf_test)}, Precision {precision_score(y_test, y_clf_test)}, Recall {recall_score(y_test, y_clf_test)}, F1 {f1_score(y_test, y_clf_test)}')\n",
    "disp = plot_confusion_matrix(clf, X_test, y_test,\n",
    "#                                  display_labels=class_names,\n",
    "                                 cmap=plt.cm.Blues,\n",
    "                                 normalize=None)\n",
    "disp.ax_.set_title('Test data')"
   ]
  }
 ],
 "metadata": {
  "kernelspec": {
   "display_name": "Python 3",
   "language": "python",
   "name": "python3"
  },
  "language_info": {
   "codemirror_mode": {
    "name": "ipython",
    "version": 3
   },
   "file_extension": ".py",
   "mimetype": "text/x-python",
   "name": "python",
   "nbconvert_exporter": "python",
   "pygments_lexer": "ipython3",
   "version": "3.8.5"
  }
 },
 "nbformat": 4,
 "nbformat_minor": 4
}
